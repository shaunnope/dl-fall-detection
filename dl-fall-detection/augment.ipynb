{
 "cells": [
  {
   "cell_type": "code",
   "execution_count": 1,
   "metadata": {},
   "outputs": [],
   "source": [
    "## Notebook to remove B class.\n",
    "\n",
    "import torch\n",
    "\n",
    "from torchvision.transforms import ToTensor, Compose, Normalize\n",
    "\n",
    "from data.dataset import get_data, get_datasets\n",
    "\n",
    "from model.model import YOLONet\n",
    "from model.train import train\n",
    "from model.loss import DetectionLoss\n",
    "\n",
    "DATASET = \"../datasets/Human-Fall-Detection\"\n",
    "BATCH_SIZE = 8\n",
    "\n",
    "SUBSET = False\n",
    "\n",
    "device = torch.device(\"cuda\" if torch.cuda.is_available() else \"cpu\")"
   ]
  },
  {
   "cell_type": "code",
   "execution_count": 4,
   "metadata": {},
   "outputs": [],
   "source": [
    "transform_data = Compose([ToTensor(), Normalize((0.4379,), (0.3040,))])\n",
    "\n",
    "\n",
    "data = get_datasets(DATASET, transform_data, device=device)\n",
    "\n",
    "for ds in data.values():\n",
    "  ds.relabel({1:0, 2:1, 3:2}, \"nob\")"
   ]
  }
 ],
 "metadata": {
  "kernelspec": {
   "display_name": "dlenv",
   "language": "python",
   "name": "python3"
  },
  "language_info": {
   "codemirror_mode": {
    "name": "ipython",
    "version": 3
   },
   "file_extension": ".py",
   "mimetype": "text/x-python",
   "name": "python",
   "nbconvert_exporter": "python",
   "pygments_lexer": "ipython3",
   "version": "3.11.8"
  }
 },
 "nbformat": 4,
 "nbformat_minor": 2
}
