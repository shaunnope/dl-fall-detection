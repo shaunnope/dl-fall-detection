{
 "cells": [
  {
   "cell_type": "code",
   "execution_count": 1,
   "metadata": {},
   "outputs": [],
   "source": [
    "import torch\n",
    "\n",
    "from torchvision.transforms import ToTensor, Compose, Normalize\n",
    "\n",
    "from data.dataset import get_data\n",
    "\n",
    "from model.model import YOLONet\n",
    "from model.train import train\n",
    "from model.loss import DetectionLoss\n",
    "\n",
    "DATASET = \"../datasets/Human-Fall-Detection\"\n",
    "BATCH_SIZE = 8\n",
    "\n",
    "SUBSET = False\n",
    "\n",
    "device = torch.device(\"cuda\" if torch.cuda.is_available() else \"cpu\")"
   ]
  },
  {
   "cell_type": "code",
   "execution_count": 2,
   "metadata": {},
   "outputs": [],
   "source": [
    "transform_data = Compose([ToTensor(), Normalize((0.4379,), (0.3040,))])\n",
    "\n",
    "data = get_data(DATASET, transform_data, device=device, batch_size=BATCH_SIZE, end=BATCH_SIZE if SUBSET else None)\n",
    " \n",
    "train_loader, val_loader, test_loader = list(data[\"dataloaders\"].values())"
   ]
  },
  {
   "cell_type": "code",
   "execution_count": 3,
   "metadata": {},
   "outputs": [
    {
     "name": "stderr",
     "output_type": "stream",
     "text": [
      "  0%|          | 0/337 [00:00<?, ?it/s]c:\\Users\\yapzh\\miniconda3\\envs\\dlenv\\Lib\\site-packages\\torch\\functional.py:507: UserWarning: torch.meshgrid: in an upcoming release, it will be required to pass the indexing argument. (Triggered internally at C:\\cb\\pytorch_1000000000000\\work\\aten\\src\\ATen\\native\\TensorShape.cpp:3550.)\n",
      "  return _VF.meshgrid(tensors, **kwargs)  # type: ignore[attr-defined]\n",
      "[1, 330] train loss: 2.6603, 139.1799, 2.8511: 100%|██████████| 337/337 [05:13<00:00,  1.08it/s]\n",
      "[1, 110] valid loss: 2.7599, 143.5593, 2.9507: 100%|██████████| 113/113 [03:35<00:00,  1.90s/it]\n"
     ]
    },
    {
     "name": "stdout",
     "output_type": "stream",
     "text": [
      "[1] valid loss: 2.7314, 143.0701, 2.9240\n"
     ]
    },
    {
     "name": "stderr",
     "output_type": "stream",
     "text": [
      "[2, 330] train loss: 2.7353, 135.6245, 2.9472: 100%|██████████| 337/337 [42:46<00:00,  7.62s/it]\n",
      "[2, 110] valid loss: 2.8066, 149.4768, 3.0401: 100%|██████████| 113/113 [03:19<00:00,  1.77s/it]\n"
     ]
    },
    {
     "name": "stdout",
     "output_type": "stream",
     "text": [
      "[2] valid loss: 2.7768, 148.4603, 3.0082\n"
     ]
    },
    {
     "name": "stderr",
     "output_type": "stream",
     "text": [
      "[3, 330] train loss: 2.8135, 128.2020, 2.8844: 100%|██████████| 337/337 [29:39<00:00,  5.28s/it]\n",
      "[3, 110] valid loss: 2.7246, 148.2778, 2.9073: 100%|██████████| 113/113 [03:19<00:00,  1.76s/it]\n"
     ]
    },
    {
     "name": "stdout",
     "output_type": "stream",
     "text": [
      "[3] valid loss: 2.7073, 146.4245, 2.8816\n"
     ]
    },
    {
     "name": "stderr",
     "output_type": "stream",
     "text": [
      "[4, 330] train loss: 2.6357, 105.9392, 2.7356: 100%|██████████| 337/337 [37:59<00:00,  6.76s/it]\n",
      "[4, 110] valid loss: 2.5865, 139.2719, 2.7614: 100%|██████████| 113/113 [03:32<00:00,  1.88s/it]\n"
     ]
    },
    {
     "name": "stdout",
     "output_type": "stream",
     "text": [
      "[4] valid loss: 2.5547, 137.6243, 2.7297\n"
     ]
    },
    {
     "name": "stderr",
     "output_type": "stream",
     "text": [
      "[5, 330] train loss: 2.5054, 109.3245, 2.6339: 100%|██████████| 337/337 [33:29<00:00,  5.96s/it]\n",
      "[5, 110] valid loss: 2.5126, 137.4000, 2.6396: 100%|██████████| 113/113 [03:19<00:00,  1.77s/it]\n"
     ]
    },
    {
     "name": "stdout",
     "output_type": "stream",
     "text": [
      "[5] valid loss: 2.4855, 135.5972, 2.6105\n"
     ]
    },
    {
     "name": "stderr",
     "output_type": "stream",
     "text": [
      "[6, 330] train loss: 2.4713, 118.0051, 2.5512: 100%|██████████| 337/337 [33:37<00:00,  5.99s/it]\n",
      "[6, 110] valid loss: 2.4366, 131.9383, 2.5650: 100%|██████████| 113/113 [03:30<00:00,  1.86s/it]\n"
     ]
    },
    {
     "name": "stdout",
     "output_type": "stream",
     "text": [
      "[6] valid loss: 2.4119, 131.0715, 2.5403\n"
     ]
    },
    {
     "name": "stderr",
     "output_type": "stream",
     "text": [
      "[7, 330] train loss: 2.3747, 128.0989, 2.4035: 100%|██████████| 337/337 [30:50<00:00,  5.49s/it]\n",
      "[7, 110] valid loss: 2.3540, 133.2831, 2.4908: 100%|██████████| 113/113 [03:02<00:00,  1.61s/it]\n"
     ]
    },
    {
     "name": "stdout",
     "output_type": "stream",
     "text": [
      "[7] valid loss: 2.3326, 132.2498, 2.4709\n"
     ]
    },
    {
     "name": "stderr",
     "output_type": "stream",
     "text": [
      "[8, 330] train loss: 2.2641, 112.4141, 2.4322: 100%|██████████| 337/337 [23:51<00:00,  4.25s/it]\n",
      "[8, 110] valid loss: 2.3503, 129.5199, 2.4798: 100%|██████████| 113/113 [03:00<00:00,  1.59s/it]\n"
     ]
    },
    {
     "name": "stdout",
     "output_type": "stream",
     "text": [
      "[8] valid loss: 2.3304, 127.3902, 2.4558\n"
     ]
    },
    {
     "name": "stderr",
     "output_type": "stream",
     "text": [
      "[9, 330] train loss: 2.2825, 102.2409, 2.4253: 100%|██████████| 337/337 [19:36<00:00,  3.49s/it]\n",
      "[9, 110] valid loss: 2.3240, 127.0210, 2.4566: 100%|██████████| 113/113 [03:16<00:00,  1.74s/it]\n"
     ]
    },
    {
     "name": "stdout",
     "output_type": "stream",
     "text": [
      "[9] valid loss: 2.3033, 125.9188, 2.4336\n"
     ]
    },
    {
     "name": "stderr",
     "output_type": "stream",
     "text": [
      "[10, 330] train loss: 2.1344, 98.2313, 2.3436: 100%|██████████| 337/337 [14:58<00:00,  2.67s/it] \n",
      "[10, 110] valid loss: 2.2890, 125.4112, 2.4283: 100%|██████████| 113/113 [02:40<00:00,  1.42s/it]\n"
     ]
    },
    {
     "name": "stdout",
     "output_type": "stream",
     "text": [
      "[10] valid loss: 2.2730, 124.8885, 2.4106\n"
     ]
    },
    {
     "name": "stderr",
     "output_type": "stream",
     "text": [
      "[10, 110] test loss: 2.3277, 97.5627, 2.4328: 100%|██████████| 113/113 [02:45<00:00,  1.47s/it]"
     ]
    },
    {
     "name": "stdout",
     "output_type": "stream",
     "text": [
      "Final test loss: tensor([ 2.3079, 95.9329,  2.4111], device='cuda:0')\n",
      "Finished Training\n"
     ]
    },
    {
     "name": "stderr",
     "output_type": "stream",
     "text": [
      "\n"
     ]
    }
   ],
   "source": [
    "with torch.device(device):\n",
    "  model = YOLONet(3, ch=(64,32,16))\n",
    "  model.load_state_dict(torch.load('model_softmax_v2.pt'))\n",
    "  criterion = DetectionLoss(model.head)\n",
    "\n",
    "train(model, train_loader, val_loader, test_loader, 10, criterion)"
   ]
  },
  {
   "cell_type": "code",
   "execution_count": 4,
   "metadata": {},
   "outputs": [
    {
     "name": "stdout",
     "output_type": "stream",
     "text": [
      "torch.Size([8, 3, 640, 640])\n",
      "torch.Size([8, 4, 2100]) torch.Size([8, 3, 2100]) torch.Size([8, 7, 2100])\n"
     ]
    },
    {
     "name": "stderr",
     "output_type": "stream",
     "text": [
      "c:\\Users\\yapzh\\miniconda3\\envs\\dlenv\\Lib\\site-packages\\torch\\functional.py:507: UserWarning: torch.meshgrid: in an upcoming release, it will be required to pass the indexing argument. (Triggered internally at C:\\cb\\pytorch_1000000000000\\work\\aten\\src\\ATen\\native\\TensorShape.cpp:3550.)\n",
      "  return _VF.meshgrid(tensors, **kwargs)  # type: ignore[attr-defined]\n"
     ]
    },
    {
     "data": {
      "text/plain": [
       "torch.Size([8, 7, 2100])"
      ]
     },
     "execution_count": 4,
     "metadata": {},
     "output_type": "execute_result"
    }
   ],
   "source": [
    "model.eval()\n",
    "image, label = next(iter(test_loader))\n",
    "print(image.shape)\n",
    "output = model(image)\n",
    "output.shape"
   ]
  },
  {
   "cell_type": "code",
   "execution_count": 5,
   "metadata": {},
   "outputs": [
    {
     "data": {
      "text/plain": [
       "(torch.Size([8, 4, 2100]), torch.Size([8, 3, 2100]))"
      ]
     },
     "execution_count": 5,
     "metadata": {},
     "output_type": "execute_result"
    }
   ],
   "source": [
    "boxes, clses = output.split((4,3), 1)\n",
    "boxes.shape, clses.shape"
   ]
  },
  {
   "cell_type": "code",
   "execution_count": 6,
   "metadata": {},
   "outputs": [],
   "source": [
    "conf, cls_ids = torch.max(clses.log_softmax(1), 1)"
   ]
  },
  {
   "cell_type": "code",
   "execution_count": 12,
   "metadata": {},
   "outputs": [
    {
     "data": {
      "text/plain": [
       "tensor([[[0.5308, 0.3990, 0.3713,  ..., 0.2079, 0.1830, 0.1774],\n",
       "         [0.3052, 0.3039, 0.2427,  ..., 0.4329, 0.4094, 0.4607],\n",
       "         [0.1641, 0.2971, 0.3861,  ..., 0.3592, 0.4076, 0.3619]],\n",
       "\n",
       "        [[0.6736, 0.6001, 0.5446,  ..., 0.3976, 0.3322, 0.2089],\n",
       "         [0.2365, 0.2926, 0.2720,  ..., 0.2430, 0.3046, 0.3571],\n",
       "         [0.0899, 0.1073, 0.1833,  ..., 0.3594, 0.3631, 0.4340]],\n",
       "\n",
       "        [[0.5556, 0.5198, 0.5598,  ..., 0.2366, 0.2324, 0.1575],\n",
       "         [0.3098, 0.3181, 0.2846,  ..., 0.3536, 0.3494, 0.3737],\n",
       "         [0.1346, 0.1621, 0.1555,  ..., 0.4097, 0.4182, 0.4687]],\n",
       "\n",
       "        ...,\n",
       "\n",
       "        [[0.6948, 0.6742, 0.6969,  ..., 0.2171, 0.2109, 0.1795],\n",
       "         [0.2285, 0.2525, 0.2241,  ..., 0.3283, 0.3176, 0.3685],\n",
       "         [0.0768, 0.0733, 0.0791,  ..., 0.4546, 0.4716, 0.4520]],\n",
       "\n",
       "        [[0.5282, 0.4670, 0.4694,  ..., 0.4771, 0.3539, 0.2313],\n",
       "         [0.3432, 0.3797, 0.3734,  ..., 0.2233, 0.2882, 0.3500],\n",
       "         [0.1286, 0.1533, 0.1573,  ..., 0.2996, 0.3579, 0.4187]],\n",
       "\n",
       "        [[0.6937, 0.6969, 0.7088,  ..., 0.4359, 0.3498, 0.2072],\n",
       "         [0.2306, 0.2415, 0.2250,  ..., 0.2302, 0.3109, 0.4393],\n",
       "         [0.0756, 0.0616, 0.0662,  ..., 0.3339, 0.3392, 0.3535]]],\n",
       "       device='cuda:0', grad_fn=<ExpBackward0>)"
      ]
     },
     "execution_count": 12,
     "metadata": {},
     "output_type": "execute_result"
    }
   ],
   "source": [
    "clses.log_softmax(1).exp()"
   ]
  },
  {
   "cell_type": "code",
   "execution_count": 74,
   "metadata": {},
   "outputs": [
    {
     "data": {
      "text/plain": [
       "tensor([0.3333, 0.3333, 0.3333], device='cuda:0', grad_fn=<SelectBackward0>)"
      ]
     },
     "execution_count": 74,
     "metadata": {},
     "output_type": "execute_result"
    }
   ],
   "source": [
    "torch.functional.F.softmax(clses, 1)[0, :, 0]"
   ]
  },
  {
   "cell_type": "code",
   "execution_count": 18,
   "metadata": {},
   "outputs": [
    {
     "data": {
      "text/plain": [
       "tensor([[[0.9796, 0.8334, 0.0744],\n",
       "         [0.2290, 0.4009, 0.7931],\n",
       "         [0.7164, 0.3633, 0.4729],\n",
       "         [0.4335, 0.0868, 0.1258]]])"
      ]
     },
     "execution_count": 18,
     "metadata": {},
     "output_type": "execute_result"
    }
   ],
   "source": [
    "t = torch.rand(1, 4, 3)\n",
    "t"
   ]
  },
  {
   "cell_type": "code",
   "execution_count": 27,
   "metadata": {},
   "outputs": [
    {
     "data": {
      "text/plain": [
       "tensor([[[0.4408, 0.3809, 0.1783],\n",
       "         [0.2535, 0.3010, 0.4455],\n",
       "         [0.4022, 0.2825, 0.3153],\n",
       "         [0.4095, 0.2895, 0.3010]]])"
      ]
     },
     "execution_count": 27,
     "metadata": {},
     "output_type": "execute_result"
    }
   ],
   "source": [
    "torch.functional.F.softmax(t, 2)"
   ]
  },
  {
   "cell_type": "code",
   "execution_count": 16,
   "metadata": {},
   "outputs": [
    {
     "data": {
      "text/plain": [
       "tensor(0.0427, device='cuda:0', grad_fn=<MaxBackward1>)"
      ]
     },
     "execution_count": 16,
     "metadata": {},
     "output_type": "execute_result"
    }
   ],
   "source": [
    "clses.max()"
   ]
  },
  {
   "cell_type": "code",
   "execution_count": 4,
   "metadata": {},
   "outputs": [],
   "source": [
    "torch.save(model.state_dict(), 'model_softmax_v2.pt')"
   ]
  },
  {
   "cell_type": "code",
   "execution_count": 5,
   "metadata": {},
   "outputs": [],
   "source": [
    "image, label = next(iter(test_loader))"
   ]
  },
  {
   "cell_type": "code",
   "execution_count": 4,
   "metadata": {},
   "outputs": [
    {
     "name": "stderr",
     "output_type": "stream",
     "text": [
      "torch.Size([7, 3, 640, 640]) torch.Size([10, 6]): 100%|██████████| 113/113 [00:07<00:00, 14.80it/s]\n"
     ]
    }
   ],
   "source": [
    "from tqdm import tqdm\n",
    "\n",
    "pbar = tqdm(test_loader)\n",
    "for i, (image, label) in enumerate(pbar):\n",
    "  # print(image.shape, label.shape)\n",
    "  pbar.set_description_str(f\"{image.shape} {label.shape}\")\n",
    "  continue\n",
    "  output = model(image)\n",
    "  pbar.set_description_str(f\"{output.shape}\")\n",
    "  # boxes, clses = output.split((4,3), 1)\n",
    "  # conf, cls_ids = clses.max(1)\n",
    "  # print(cls_ids)\n",
    "  # break"
   ]
  }
 ],
 "metadata": {
  "kernelspec": {
   "display_name": "dlenv",
   "language": "python",
   "name": "python3"
  },
  "language_info": {
   "codemirror_mode": {
    "name": "ipython",
    "version": 3
   },
   "file_extension": ".py",
   "mimetype": "text/x-python",
   "name": "python",
   "nbconvert_exporter": "python",
   "pygments_lexer": "ipython3",
   "version": "3.11.8"
  }
 },
 "nbformat": 4,
 "nbformat_minor": 2
}
