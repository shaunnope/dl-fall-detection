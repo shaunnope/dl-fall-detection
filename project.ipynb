{
 "cells": [
  {
   "cell_type": "code",
   "execution_count": 72,
   "metadata": {},
   "outputs": [
    {
     "name": "stdout",
     "output_type": "stream",
     "text": [
      "cuda\n"
     ]
    }
   ],
   "source": [
    "import os\n",
    "\n",
    "# Torch\n",
    "import torch\n",
    "import torchvision\n",
    "from torch.utils.data import Dataset\n",
    "from torchvision import datasets\n",
    "import torch.optim as optim\n",
    "from torchvision.transforms import ToTensor, Compose, Normalize\n",
    "from torchvision.datasets import MNIST\n",
    "import torch.nn.functional as F\n",
    "import torch.nn as nn\n",
    "from PIL import Image\n",
    "\n",
    "# Use GPU if available, else use CPU\n",
    "device = torch.device(\"cuda\" if torch.cuda.is_available() else \"cpu\")\n",
    "print(device)"
   ]
  },
  {
   "cell_type": "markdown",
   "metadata": {},
   "source": [
    "## Dataset"
   ]
  },
  {
   "cell_type": "code",
   "execution_count": null,
   "metadata": {},
   "outputs": [],
   "source": [
    "# from roboflow import Roboflow\n",
    "# rf = Roboflow(api_key=\"WewILBCNfyY6D0eTbQ2j\")\n",
    "# project = rf.workspace(\"roboflow-universe-projects\").project(\"fall-detection-ca3o8\")\n",
    "# version = project.version(4)\n",
    "# dataset = version.download(\"yolov8\")\n"
   ]
  },
  {
   "cell_type": "code",
   "execution_count": 73,
   "metadata": {},
   "outputs": [],
   "source": [
    "# define dataset from yolov8 annotations\n",
    "class CustomDataset(Dataset):\n",
    "  def __init__(self, dir, transform=None, target_transform=None):\n",
    "    self.img_dir = f\"{dir}/images\"\n",
    "    self.label_dir = f\"{dir}/labels\"\n",
    "\n",
    "    # extract file names from the directory, removing the file extension and parent directory\n",
    "    self.img_names = [os.path.splitext(name)[0] for name in os.listdir(self.img_dir)]\n",
    "\n",
    "    self.transform = transform\n",
    "    self.target_transform = target_transform\n",
    "\n",
    "  def __len__(self):\n",
    "    return len(self.img_names)\n",
    "\n",
    "  def __getitem__(self, idx):\n",
    "    # construct the file paths for the image and label from the directory, add extension\n",
    "    img_path = os.path.join(self.img_dir, self.img_names[idx] + \".jpg\")\n",
    "    label_path = os.path.join(self.label_dir, self.img_names[idx] + \".txt\")\n",
    "    image = Image.open(img_path)\n",
    "    labels = [[float(l) for l in line.rstrip('\\n').split()] for line in open(label_path)]\n",
    "    if self.transform:\n",
    "      image = self.transform(image)  \n",
    "    if self.target_transform:\n",
    "      labels = self.target_transform(labels)\n",
    "    return image, labels"
   ]
  },
  {
   "cell_type": "code",
   "execution_count": 76,
   "metadata": {},
   "outputs": [],
   "source": [
    "dataset = CustomDataset(\"Fall-Detection-4/train\", transform=ToTensor())"
   ]
  },
  {
   "cell_type": "code",
   "execution_count": 42,
   "metadata": {},
   "outputs": [
    {
     "data": {
      "text/plain": [
       "9438"
      ]
     },
     "execution_count": 42,
     "metadata": {},
     "output_type": "execute_result"
    }
   ],
   "source": [
    "len(dataset)"
   ]
  },
  {
   "cell_type": "code",
   "execution_count": 40,
   "metadata": {},
   "outputs": [
    {
     "data": {
      "text/plain": [
       "torch.Size([3, 640, 640])"
      ]
     },
     "execution_count": 40,
     "metadata": {},
     "output_type": "execute_result"
    }
   ],
   "source": [
    "dataset[0][0].shape"
   ]
  },
  {
   "cell_type": "code",
   "execution_count": 78,
   "metadata": {},
   "outputs": [
    {
     "data": {
      "text/plain": [
       "(tensor(0.4379), tensor(0.3040))"
      ]
     },
     "execution_count": 78,
     "metadata": {},
     "output_type": "execute_result"
    }
   ],
   "source": [
    "# # compute mean and standard deviation of the dataset\n",
    "# concat = torch.cat([dataset[i][0] for i in range(4000)], 0).to(torch.float32)\n",
    "# mean = concat.mean()\n",
    "# std = concat.std()\n",
    "# mean, std"
   ]
  },
  {
   "cell_type": "code",
   "execution_count": 68,
   "metadata": {},
   "outputs": [],
   "source": [
    "transform_data = Compose([ToTensor(), Normalize((0.4379,), (0.3040,))])\n",
    "\n",
    "batch_size = 256\n",
    "train_dataset = CustomDataset(\"Fall-Detection-4/train\", transform=transform_data)"
   ]
  }
 ],
 "metadata": {
  "kernelspec": {
   "display_name": "dlenv",
   "language": "python",
   "name": "python3"
  },
  "language_info": {
   "codemirror_mode": {
    "name": "ipython",
    "version": 3
   },
   "file_extension": ".py",
   "mimetype": "text/x-python",
   "name": "python",
   "nbconvert_exporter": "python",
   "pygments_lexer": "ipython3",
   "version": "3.11.8"
  }
 },
 "nbformat": 4,
 "nbformat_minor": 2
}
